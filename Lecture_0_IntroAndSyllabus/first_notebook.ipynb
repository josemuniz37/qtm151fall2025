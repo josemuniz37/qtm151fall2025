{
 "cells": [
  {
   "cell_type": "markdown",
   "id": "713b57c0",
   "metadata": {},
   "source": [
    "# <span style=\"font-size:64px;\">This is my first Jupyter notebook!</span>\n"
   ]
  },
  {
   "cell_type": "code",
   "execution_count": 1,
   "id": "3091dfac",
   "metadata": {},
   "outputs": [
    {
     "name": "stdout",
     "output_type": "stream",
     "text": [
      "My name is Jose Carlos Muniz!\n"
     ]
    }
   ],
   "source": [
    "print(\"My name is Jose Carlos Muniz!\")"
   ]
  }
 ],
 "metadata": {
  "kernelspec": {
   "display_name": "base",
   "language": "python",
   "name": "python3"
  },
  "language_info": {
   "codemirror_mode": {
    "name": "ipython",
    "version": 3
   },
   "file_extension": ".py",
   "mimetype": "text/x-python",
   "name": "python",
   "nbconvert_exporter": "python",
   "pygments_lexer": "ipython3",
   "version": "3.12.7"
  }
 },
 "nbformat": 4,
 "nbformat_minor": 5
}
