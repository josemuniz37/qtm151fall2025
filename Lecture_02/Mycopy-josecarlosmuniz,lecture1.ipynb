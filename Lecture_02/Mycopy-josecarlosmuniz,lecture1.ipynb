{
 "cells": [
  {
   "attachments": {},
   "cell_type": "markdown",
   "metadata": {},
   "source": [
    "# <span style=\"color:darkblue\" fontsize = 500> Lecture 1: Introduction to Jupyter Notebooks </span>"
   ]
  },
  {
   "cell_type": "markdown",
   "metadata": {},
   "source": [
    "<font size=\"5\"> \n",
    "\n",
    "The basic structure for running Python for data projects\n",
    "<img src=\"figures/project_flow.png\" alt=\"drawing\" width=\"650\"/>\n",
    "- Python is a general purpose language\n",
    "- Researchers and practitioners add new functionalities all the time\n",
    "- New features are included as libraries on top of the \"basic\" installation\n",
    "\n",
    "***"
   ]
  },
  {
   "cell_type": "markdown",
   "metadata": {},
   "source": [
    "# <span style=\"color:darkblue\"> STEP 0: Preliminaries </span>\n",
    "\n",
    "<font size=\"5\"> \n",
    "\n",
    "- A Virtual Environment is an isolated **directory/workspace** (folder in your computer) <br>\n",
    "that contains a specific **collection of packages**\n",
    "\n",
    "- A package is a folder containing a set of Python scripts or <br>\n",
    "modules which allow you to accomplish a defined task <br> \n",
    "(visualization, analysis, mathematical operations, etc.)"
   ]
  },
  {
   "cell_type": "markdown",
   "metadata": {},
   "source": [
    "<font size = \"5\">\n",
    "\n",
    "To manage packages open \"Anaconda Navigator\" on your <br>\n",
    "computer and go to the \"Environment\" Tab"
   ]
  },
  {
   "cell_type": "markdown",
   "metadata": {},
   "source": [
    "<img src=\"figures/anaconda_navigator_installed.png\" alt=\"drawing\" width=\"650\"/>"
   ]
  },
  {
   "cell_type": "markdown",
   "metadata": {},
   "source": [
    "<font size = \"5\">\n",
    "\n",
    "In the future, as your data analysis needs expand, <br>\n",
    "you way want to click on the \"Not installed\" packages <br>\n",
    "to download cool new packages!"
   ]
  },
  {
   "cell_type": "markdown",
   "metadata": {},
   "source": [
    "<img src=\"figures/anaconda_navigator_notinstalled.png\" alt=\"drawing\" width=\"650\"/>"
   ]
  },
  {
   "cell_type": "markdown",
   "metadata": {},
   "source": [
    "<font size = \"5\">\n",
    "\n",
    "Note: Anaconda does not list the default packages in <br>\n",
    "Python's **standard** library.  You have access to these too!<br>\n",
    "See [The Python Standard Library](https://docs.python.org/3/library/index.html) to see what's included. "
   ]
  },
  {
   "cell_type": "markdown",
   "metadata": {},
   "source": [
    "# <span style=\"color:darkblue\"> STEP 1: Setup Working Environment </span>\n",
    "\n",
    "<font size=\"5\"> \n",
    "\n",
    "(a) Double Check that Python is linked to VS Code\n",
    "\n",
    "<img src=\"figures/python_kernel.png\" alt=\"drawing\" width=\"650\"/>\n",
    "\n",
    "- If not already linked, it will say \"Select Kernel\"\n",
    "- Click button, choose \"Python Environments\", then select <br>\n",
    "the version of Python that contains the word \"anaconda\"\n"
   ]
  },
  {
   "cell_type": "markdown",
   "metadata": {},
   "source": [
    "<font size=\"5\"> \n",
    "\n",
    "(b) Try some basic Python commands\n",
    "- use \"print\" to display a message and some basic calculations"
   ]
  },
  {
   "cell_type": "code",
   "execution_count": 2,
   "metadata": {},
   "outputs": [
    {
     "name": "stdout",
     "output_type": "stream",
     "text": [
      "Hello World!\n",
      "5\n",
      "12\n",
      "8\n"
     ]
    }
   ],
   "source": [
    "print(\"Hello World!\")\n",
    "print(2 + 3)\n",
    "print(3*4)\n",
    "print(2**3) # 2 raised to the third power"
   ]
  },
  {
   "cell_type": "markdown",
   "metadata": {},
   "source": [
    "### Let's try and compute $\\log_2(8)$ (which equals 3). \n",
    "### We will get our first error message!"
   ]
  },
  {
   "cell_type": "code",
   "execution_count": 3,
   "metadata": {},
   "outputs": [
    {
     "ename": "NameError",
     "evalue": "name 'log2' is not defined",
     "output_type": "error",
     "traceback": [
      "\u001b[0;31m---------------------------------------------------------------------------\u001b[0m",
      "\u001b[0;31mNameError\u001b[0m                                 Traceback (most recent call last)",
      "Cell \u001b[0;32mIn[3], line 1\u001b[0m\n\u001b[0;32m----> 1\u001b[0m \u001b[38;5;28mprint\u001b[39m(log2(\u001b[38;5;241m8\u001b[39m))\n",
      "\u001b[0;31mNameError\u001b[0m: name 'log2' is not defined"
     ]
    }
   ],
   "source": [
    "print(log2(8))"
   ]
  },
  {
   "cell_type": "markdown",
   "metadata": {},
   "source": [
    "<font size = \"5\">\n",
    "\n",
    "(c) Import Packages (a.k.a. libraries):\n",
    "\n",
    "- Jupyter notebooks launches with very basic options\n",
    "- The \"import\" command adds libraries to the working enviroment. \n",
    "- Once imported, use \".\" to run subcommands contained in the library"
   ]
  },
  {
   "cell_type": "code",
   "execution_count": 4,
   "metadata": {},
   "outputs": [
    {
     "name": "stdout",
     "output_type": "stream",
     "text": [
      "3.0\n"
     ]
    }
   ],
   "source": [
    "import math\n",
    "print(math.log2(8))"
   ]
  },
  {
   "cell_type": "markdown",
   "metadata": {},
   "source": [
    "### Let's import the \"statistics\" library"
   ]
  },
  {
   "cell_type": "code",
   "execution_count": 5,
   "metadata": {},
   "outputs": [
    {
     "name": "stdout",
     "output_type": "stream",
     "text": [
      "5.428571428571429\n",
      "5\n",
      "3.795163026589841\n"
     ]
    }
   ],
   "source": [
    "import statistics\n",
    "\n",
    "print(statistics.mean([1, 7, 3, 5, 9, 1, 12]))\n",
    "print(statistics.median([1, 7, 3, 5, 9, 1, 12]))\n",
    "print(statistics.geometric_mean([1, 7, 3, 5, 9, 1, 12]))"
   ]
  },
  {
   "cell_type": "markdown",
   "metadata": {},
   "source": [
    "<font size = \"5\">\n",
    "\n",
    "(d) Import Packages with nicknames:\n",
    "\n",
    "- Typing \"statistics\" every single time you use that package can be a pain\n",
    "- To create nice plots, we will be using `matplotlib.pyplot` - long name!\n",
    "- Luckily, we can give the libraries a nickname with \"as\"\n",
    "- We will also use `pandas` - library for working with datasets"
   ]
  },
  {
   "cell_type": "code",
   "execution_count": 6,
   "metadata": {},
   "outputs": [
    {
     "name": "stdout",
     "output_type": "stream",
     "text": [
      "5.428571428571429\n"
     ]
    }
   ],
   "source": [
    "# This cell is a code cell. But adding \"#\" at the start of a line makes it a comment.\n",
    "# Comments are ignored by Python, but are useful for humans to understand the code.\n",
    "\n",
    "# Notes about nicknames:\n",
    "# - Import \"statistics\", but give it the nickname \"stats\"\n",
    "# - \"matplotlib.pyplot\" is a long name. Let's call it \"plt\"\n",
    "# - Similarly, let's call \"pandas\" as \"pd\"\n",
    "# - Try adding your own nickname!\n",
    "# - To avoid errors, be consistent with your nicknames\n",
    "\n",
    "import statistics as stats\n",
    "import matplotlib.pyplot as plt\n",
    "import pandas as pd\n",
    "\n",
    "\n",
    "print(stats.mean([1, 7, 3, 5, 9, 1, 12]))"
   ]
  },
  {
   "attachments": {},
   "cell_type": "markdown",
   "metadata": {},
   "source": [
    "<font size=\"5\"> \n",
    "\n",
    "(e) Open datasets\n",
    "\n",
    "Run the command \"read_csv\" from the library <br>\n",
    "\"pandas\" (nicknamed \"pd\"). \n"
   ]
  },
  {
   "cell_type": "code",
   "execution_count": 7,
   "metadata": {},
   "outputs": [],
   "source": [
    "\n",
    "# The subcommand \"read_csv()\" opens the file in parenthesis.\n",
    "# We use the \"=\" symbol to store the dataset in the working environment under the name \"carfeatures\"\n",
    "\n",
    "carfeatures = pd.read_csv('data/features.csv')"
   ]
  },
  {
   "attachments": {},
   "cell_type": "markdown",
   "metadata": {},
   "source": [
    "<font size=\"5\"> \n",
    "\n",
    "You can open the datasets in the current environment\n",
    "- Click on the \"Jupyter Variables\" button in the top bar to open a panel\n",
    "\n",
    "<img src=\"figures/topbar.png\" alt=\"drawing\" width=\"650\"/>\n",
    "\n",
    "- Click on the icon to the left of \"carfeatures\" in the \"Jupyter: Variables\" tab\n",
    "\n",
    "<img src=\"figures/jupyter_var.png\" alt=\"drawing\" width=\"700\"/>\n",
    "\n",
    "DataWrangler will open a window showing the data\n",
    "- Each row is an observation (a car)\n",
    "- Each column is the value of a variable (a feature of that car)"
   ]
  },
  {
   "attachments": {},
   "cell_type": "markdown",
   "metadata": {},
   "source": [
    "***"
   ]
  },
  {
   "attachments": {},
   "cell_type": "markdown",
   "metadata": {},
   "source": [
    "\n",
    "# <span style=\"color:darkblue\"> STEP 2: Run Analyses </span>\n",
    "\n",
    "<font size=\"5\"> \n",
    "\n",
    "Output data for all the columns"
   ]
  },
  {
   "cell_type": "code",
   "execution_count": 8,
   "metadata": {},
   "outputs": [
    {
     "data": {
      "application/vnd.microsoft.datawrangler.viewer.v0+json": {
       "columns": [
        {
         "name": "index",
         "rawType": "int64",
         "type": "integer"
        },
        {
         "name": "mpg",
         "rawType": "float64",
         "type": "float"
        },
        {
         "name": "cylinders",
         "rawType": "int64",
         "type": "integer"
        },
        {
         "name": "displacement",
         "rawType": "int64",
         "type": "integer"
        },
        {
         "name": "horsepower",
         "rawType": "object",
         "type": "unknown"
        },
        {
         "name": "weight",
         "rawType": "int64",
         "type": "integer"
        },
        {
         "name": "acceleration",
         "rawType": "float64",
         "type": "float"
        },
        {
         "name": "vehicle id",
         "rawType": "object",
         "type": "string"
        }
       ],
       "ref": "e173fc90-c45d-410a-be3b-a7e26a30048f",
       "rows": [
        [
         "0",
         "18.0",
         "8",
         "307",
         "130",
         "3504",
         "12.0",
         "C-1689780"
        ],
        [
         "1",
         "15.0",
         "8",
         "350",
         "165",
         "3693",
         "11.5",
         "B-1689791"
        ],
        [
         "2",
         "18.0",
         "8",
         "318",
         "150",
         "3436",
         "11.0",
         "P-1689802"
        ],
        [
         "3",
         "16.0",
         "8",
         "304",
         "150",
         "3433",
         "12.0",
         "A-1689813"
        ],
        [
         "4",
         "17.0",
         "8",
         "302",
         "140",
         "3449",
         "10.5",
         "F-1689824"
        ],
        [
         "5",
         "15.0",
         "8",
         "429",
         "198",
         "4341",
         "10.0",
         "F-1689835"
        ],
        [
         "6",
         "14.0",
         "8",
         "454",
         "220",
         "4354",
         "9.0",
         "C-1689846"
        ],
        [
         "7",
         "14.0",
         "8",
         "440",
         "215",
         "4312",
         "8.5",
         "P-1689857"
        ],
        [
         "8",
         "14.0",
         "8",
         "455",
         "225",
         "4425",
         "10.0",
         "P-1689868"
        ],
        [
         "9",
         "15.0",
         "8",
         "390",
         "190",
         "3850",
         "8.5",
         "A-1689879"
        ],
        [
         "10",
         "15.0",
         "8",
         "383",
         "170",
         "3563",
         "10.0",
         "D-1689890"
        ],
        [
         "11",
         "14.0",
         "8",
         "340",
         "160",
         "3609",
         "8.0",
         "P-1689901"
        ],
        [
         "12",
         "15.0",
         "8",
         "400",
         "150",
         "3761",
         "9.5",
         "C-1689912"
        ],
        [
         "13",
         "14.0",
         "8",
         "455",
         "225",
         "3086",
         "10.0",
         "B-1689923"
        ],
        [
         "14",
         "24.0",
         "4",
         "113",
         "95",
         "2372",
         "15.0",
         "T-1689934"
        ],
        [
         "15",
         "22.0",
         "6",
         "198",
         "95",
         "2833",
         "15.5",
         "P-1689945"
        ],
        [
         "16",
         "18.0",
         "6",
         "199",
         "97",
         "2774",
         "15.5",
         "A-1689956"
        ],
        [
         "17",
         "21.0",
         "6",
         "200",
         "85",
         "2587",
         "16.0",
         "F-1689967"
        ],
        [
         "18",
         "27.0",
         "4",
         "97",
         "88",
         "2130",
         "14.5",
         "D-1689978"
        ],
        [
         "19",
         "26.0",
         "4",
         "97",
         "46",
         "1835",
         "20.5",
         "V-1689989"
        ],
        [
         "20",
         "25.0",
         "4",
         "110",
         "87",
         "2672",
         "17.5",
         "P-1690000"
        ],
        [
         "21",
         "24.0",
         "4",
         "107",
         "90",
         "2430",
         "14.5",
         "A-1690011"
        ],
        [
         "22",
         "25.0",
         "4",
         "104",
         "95",
         "2375",
         "17.5",
         "S-1690022"
        ],
        [
         "23",
         "26.0",
         "4",
         "121",
         "113",
         "2234",
         "12.5",
         "B-1690033"
        ],
        [
         "24",
         "21.0",
         "6",
         "199",
         "90",
         "2648",
         "15.0",
         "A-1690044"
        ],
        [
         "25",
         "10.0",
         "8",
         "360",
         "215",
         "4615",
         "14.0",
         "F-1690055"
        ],
        [
         "26",
         "10.0",
         "8",
         "307",
         "200",
         "4376",
         "15.0",
         "C-1690066"
        ],
        [
         "27",
         "11.0",
         "8",
         "318",
         "210",
         "4382",
         "13.5",
         "D-1690077"
        ],
        [
         "28",
         "9.0",
         "8",
         "304",
         "193",
         "4732",
         "18.5",
         "H-1690088"
        ],
        [
         "29",
         "27.0",
         "4",
         "97",
         "88",
         "2130",
         "14.5",
         "D-1690099"
        ],
        [
         "30",
         "28.0",
         "4",
         "140",
         "90",
         "2264",
         "15.5",
         "C-1690110"
        ],
        [
         "31",
         "25.0",
         "4",
         "113",
         "95",
         "2228",
         "14.0",
         "T-1690121"
        ],
        [
         "32",
         "25.0",
         "4",
         "98",
         null,
         "2046",
         "19.0",
         "F-1690132"
        ],
        [
         "33",
         "19.0",
         "6",
         "232",
         "100",
         "2634",
         "13.0",
         "A-1690143"
        ],
        [
         "34",
         "16.0",
         "6",
         "225",
         "105",
         "3439",
         "15.5",
         "P-1690154"
        ],
        [
         "35",
         "17.0",
         "6",
         "250",
         "100",
         "3329",
         "15.5",
         "C-1690165"
        ],
        [
         "36",
         "19.0",
         "6",
         "250",
         "88",
         "3302",
         "15.5",
         "F-1690176"
        ],
        [
         "37",
         "18.0",
         "6",
         "232",
         "100",
         "3288",
         "15.5",
         "A-1690187"
        ],
        [
         "38",
         "14.0",
         "8",
         "350",
         "165",
         "4209",
         "12.0",
         "C-1690198"
        ],
        [
         "39",
         "14.0",
         "8",
         "400",
         "175",
         "4464",
         "11.5",
         "P-1690209"
        ],
        [
         "40",
         "14.0",
         "8",
         "351",
         "153",
         "4154",
         "13.5",
         "F-1690220"
        ],
        [
         "41",
         "14.0",
         "8",
         "318",
         "150",
         "4096",
         "13.0",
         "P-1690231"
        ],
        [
         "42",
         "12.0",
         "8",
         "383",
         "180",
         "4955",
         "11.5",
         "D-1690242"
        ],
        [
         "43",
         "13.0",
         "8",
         "400",
         "170",
         "4746",
         "12.0",
         "F-1690253"
        ],
        [
         "44",
         "13.0",
         "8",
         "400",
         "175",
         "5140",
         "12.0",
         "P-1690264"
        ],
        [
         "45",
         "18.0",
         "6",
         "258",
         "110",
         "2962",
         "13.5",
         "A-1690275"
        ],
        [
         "46",
         "22.0",
         "4",
         "140",
         "72",
         "2408",
         "19.0",
         "C-1690286"
        ],
        [
         "47",
         "19.0",
         "6",
         "250",
         "100",
         "3282",
         "15.0",
         "P-1690297"
        ],
        [
         "48",
         "18.0",
         "6",
         "250",
         "88",
         "3139",
         "14.5",
         "F-1690308"
        ],
        [
         "49",
         "23.0",
         "4",
         "122",
         "86",
         "2220",
         "14.0",
         "M-1690319"
        ]
       ],
       "shape": {
        "columns": 7,
        "rows": 398
       }
      },
      "text/html": [
       "<div>\n",
       "<style scoped>\n",
       "    .dataframe tbody tr th:only-of-type {\n",
       "        vertical-align: middle;\n",
       "    }\n",
       "\n",
       "    .dataframe tbody tr th {\n",
       "        vertical-align: top;\n",
       "    }\n",
       "\n",
       "    .dataframe thead th {\n",
       "        text-align: right;\n",
       "    }\n",
       "</style>\n",
       "<table border=\"1\" class=\"dataframe\">\n",
       "  <thead>\n",
       "    <tr style=\"text-align: right;\">\n",
       "      <th></th>\n",
       "      <th>mpg</th>\n",
       "      <th>cylinders</th>\n",
       "      <th>displacement</th>\n",
       "      <th>horsepower</th>\n",
       "      <th>weight</th>\n",
       "      <th>acceleration</th>\n",
       "      <th>vehicle id</th>\n",
       "    </tr>\n",
       "  </thead>\n",
       "  <tbody>\n",
       "    <tr>\n",
       "      <th>0</th>\n",
       "      <td>18.0</td>\n",
       "      <td>8</td>\n",
       "      <td>307</td>\n",
       "      <td>130</td>\n",
       "      <td>3504</td>\n",
       "      <td>12.0</td>\n",
       "      <td>C-1689780</td>\n",
       "    </tr>\n",
       "    <tr>\n",
       "      <th>1</th>\n",
       "      <td>15.0</td>\n",
       "      <td>8</td>\n",
       "      <td>350</td>\n",
       "      <td>165</td>\n",
       "      <td>3693</td>\n",
       "      <td>11.5</td>\n",
       "      <td>B-1689791</td>\n",
       "    </tr>\n",
       "    <tr>\n",
       "      <th>2</th>\n",
       "      <td>18.0</td>\n",
       "      <td>8</td>\n",
       "      <td>318</td>\n",
       "      <td>150</td>\n",
       "      <td>3436</td>\n",
       "      <td>11.0</td>\n",
       "      <td>P-1689802</td>\n",
       "    </tr>\n",
       "    <tr>\n",
       "      <th>3</th>\n",
       "      <td>16.0</td>\n",
       "      <td>8</td>\n",
       "      <td>304</td>\n",
       "      <td>150</td>\n",
       "      <td>3433</td>\n",
       "      <td>12.0</td>\n",
       "      <td>A-1689813</td>\n",
       "    </tr>\n",
       "    <tr>\n",
       "      <th>4</th>\n",
       "      <td>17.0</td>\n",
       "      <td>8</td>\n",
       "      <td>302</td>\n",
       "      <td>140</td>\n",
       "      <td>3449</td>\n",
       "      <td>10.5</td>\n",
       "      <td>F-1689824</td>\n",
       "    </tr>\n",
       "    <tr>\n",
       "      <th>...</th>\n",
       "      <td>...</td>\n",
       "      <td>...</td>\n",
       "      <td>...</td>\n",
       "      <td>...</td>\n",
       "      <td>...</td>\n",
       "      <td>...</td>\n",
       "      <td>...</td>\n",
       "    </tr>\n",
       "    <tr>\n",
       "      <th>393</th>\n",
       "      <td>27.0</td>\n",
       "      <td>4</td>\n",
       "      <td>140</td>\n",
       "      <td>86</td>\n",
       "      <td>2790</td>\n",
       "      <td>15.6</td>\n",
       "      <td>F-1694103</td>\n",
       "    </tr>\n",
       "    <tr>\n",
       "      <th>394</th>\n",
       "      <td>44.0</td>\n",
       "      <td>4</td>\n",
       "      <td>97</td>\n",
       "      <td>52</td>\n",
       "      <td>2130</td>\n",
       "      <td>24.6</td>\n",
       "      <td>V-1694114</td>\n",
       "    </tr>\n",
       "    <tr>\n",
       "      <th>395</th>\n",
       "      <td>32.0</td>\n",
       "      <td>4</td>\n",
       "      <td>135</td>\n",
       "      <td>84</td>\n",
       "      <td>2295</td>\n",
       "      <td>11.6</td>\n",
       "      <td>D-1694125</td>\n",
       "    </tr>\n",
       "    <tr>\n",
       "      <th>396</th>\n",
       "      <td>28.0</td>\n",
       "      <td>4</td>\n",
       "      <td>120</td>\n",
       "      <td>79</td>\n",
       "      <td>2625</td>\n",
       "      <td>18.6</td>\n",
       "      <td>F-1694136</td>\n",
       "    </tr>\n",
       "    <tr>\n",
       "      <th>397</th>\n",
       "      <td>31.0</td>\n",
       "      <td>4</td>\n",
       "      <td>119</td>\n",
       "      <td>82</td>\n",
       "      <td>2720</td>\n",
       "      <td>19.4</td>\n",
       "      <td>C-1694147</td>\n",
       "    </tr>\n",
       "  </tbody>\n",
       "</table>\n",
       "<p>398 rows × 7 columns</p>\n",
       "</div>"
      ],
      "text/plain": [
       "      mpg  cylinders  displacement horsepower  weight  acceleration vehicle id\n",
       "0    18.0          8           307        130    3504          12.0  C-1689780\n",
       "1    15.0          8           350        165    3693          11.5  B-1689791\n",
       "2    18.0          8           318        150    3436          11.0  P-1689802\n",
       "3    16.0          8           304        150    3433          12.0  A-1689813\n",
       "4    17.0          8           302        140    3449          10.5  F-1689824\n",
       "..    ...        ...           ...        ...     ...           ...        ...\n",
       "393  27.0          4           140         86    2790          15.6  F-1694103\n",
       "394  44.0          4            97         52    2130          24.6  V-1694114\n",
       "395  32.0          4           135         84    2295          11.6  D-1694125\n",
       "396  28.0          4           120         79    2625          18.6  F-1694136\n",
       "397  31.0          4           119         82    2720          19.4  C-1694147\n",
       "\n",
       "[398 rows x 7 columns]"
      ]
     },
     "execution_count": 8,
     "metadata": {},
     "output_type": "execute_result"
    }
   ],
   "source": [
    "# Entering the name of a dataframe produces an output with some rows\n",
    "\n",
    "carfeatures"
   ]
  },
  {
   "attachments": {},
   "cell_type": "markdown",
   "metadata": {},
   "source": [
    "<font size=\"5\"> \n",
    "\n",
    "Output data for a single column 'cylinders'"
   ]
  },
  {
   "cell_type": "code",
   "execution_count": 9,
   "metadata": {},
   "outputs": [
    {
     "data": {
      "application/vnd.microsoft.datawrangler.viewer.v0+json": {
       "columns": [
        {
         "name": "index",
         "rawType": "int64",
         "type": "integer"
        },
        {
         "name": "cylinders",
         "rawType": "int64",
         "type": "integer"
        }
       ],
       "ref": "bc536709-885a-496e-afc2-65e9c1185d81",
       "rows": [
        [
         "0",
         "8"
        ],
        [
         "1",
         "8"
        ],
        [
         "2",
         "8"
        ],
        [
         "3",
         "8"
        ],
        [
         "4",
         "8"
        ],
        [
         "5",
         "8"
        ],
        [
         "6",
         "8"
        ],
        [
         "7",
         "8"
        ],
        [
         "8",
         "8"
        ],
        [
         "9",
         "8"
        ],
        [
         "10",
         "8"
        ],
        [
         "11",
         "8"
        ],
        [
         "12",
         "8"
        ],
        [
         "13",
         "8"
        ],
        [
         "14",
         "4"
        ],
        [
         "15",
         "6"
        ],
        [
         "16",
         "6"
        ],
        [
         "17",
         "6"
        ],
        [
         "18",
         "4"
        ],
        [
         "19",
         "4"
        ],
        [
         "20",
         "4"
        ],
        [
         "21",
         "4"
        ],
        [
         "22",
         "4"
        ],
        [
         "23",
         "4"
        ],
        [
         "24",
         "6"
        ],
        [
         "25",
         "8"
        ],
        [
         "26",
         "8"
        ],
        [
         "27",
         "8"
        ],
        [
         "28",
         "8"
        ],
        [
         "29",
         "4"
        ],
        [
         "30",
         "4"
        ],
        [
         "31",
         "4"
        ],
        [
         "32",
         "4"
        ],
        [
         "33",
         "6"
        ],
        [
         "34",
         "6"
        ],
        [
         "35",
         "6"
        ],
        [
         "36",
         "6"
        ],
        [
         "37",
         "6"
        ],
        [
         "38",
         "8"
        ],
        [
         "39",
         "8"
        ],
        [
         "40",
         "8"
        ],
        [
         "41",
         "8"
        ],
        [
         "42",
         "8"
        ],
        [
         "43",
         "8"
        ],
        [
         "44",
         "8"
        ],
        [
         "45",
         "6"
        ],
        [
         "46",
         "4"
        ],
        [
         "47",
         "6"
        ],
        [
         "48",
         "6"
        ],
        [
         "49",
         "4"
        ]
       ],
       "shape": {
        "columns": 1,
        "rows": 398
       }
      },
      "text/plain": [
       "0      8\n",
       "1      8\n",
       "2      8\n",
       "3      8\n",
       "4      8\n",
       "      ..\n",
       "393    4\n",
       "394    4\n",
       "395    4\n",
       "396    4\n",
       "397    4\n",
       "Name: cylinders, Length: 398, dtype: int64"
      ]
     },
     "execution_count": 9,
     "metadata": {},
     "output_type": "execute_result"
    }
   ],
   "source": [
    "# We use square brackets [...] to subset information from data \n",
    "# Text/strings have to be written in quotation marks\n",
    "# This command extracts the column 'cylinders'\n",
    "\n",
    "carfeatures[\"cylinders\"]\n"
   ]
  },
  {
   "attachments": {},
   "cell_type": "markdown",
   "metadata": {},
   "source": [
    "<font size=\"5\"> \n",
    "\n",
    "Example: Compute a frequency table"
   ]
  },
  {
   "cell_type": "code",
   "execution_count": 10,
   "metadata": {},
   "outputs": [
    {
     "data": {
      "application/vnd.microsoft.datawrangler.viewer.v0+json": {
       "columns": [
        {
         "name": "cylinders",
         "rawType": "int64",
         "type": "integer"
        },
        {
         "name": "count",
         "rawType": "int64",
         "type": "integer"
        }
       ],
       "ref": "6245cac6-1b3c-4587-801b-78bab8f1b84d",
       "rows": [
        [
         "3",
         "4"
        ],
        [
         "4",
         "204"
        ],
        [
         "5",
         "3"
        ],
        [
         "6",
         "84"
        ],
        [
         "8",
         "103"
        ]
       ],
       "shape": {
        "columns": 1,
        "rows": 5
       }
      },
      "text/html": [
       "<div>\n",
       "<style scoped>\n",
       "    .dataframe tbody tr th:only-of-type {\n",
       "        vertical-align: middle;\n",
       "    }\n",
       "\n",
       "    .dataframe tbody tr th {\n",
       "        vertical-align: top;\n",
       "    }\n",
       "\n",
       "    .dataframe thead th {\n",
       "        text-align: right;\n",
       "    }\n",
       "</style>\n",
       "<table border=\"1\" class=\"dataframe\">\n",
       "  <thead>\n",
       "    <tr style=\"text-align: right;\">\n",
       "      <th>col_0</th>\n",
       "      <th>count</th>\n",
       "    </tr>\n",
       "    <tr>\n",
       "      <th>cylinders</th>\n",
       "      <th></th>\n",
       "    </tr>\n",
       "  </thead>\n",
       "  <tbody>\n",
       "    <tr>\n",
       "      <th>3</th>\n",
       "      <td>4</td>\n",
       "    </tr>\n",
       "    <tr>\n",
       "      <th>4</th>\n",
       "      <td>204</td>\n",
       "    </tr>\n",
       "    <tr>\n",
       "      <th>5</th>\n",
       "      <td>3</td>\n",
       "    </tr>\n",
       "    <tr>\n",
       "      <th>6</th>\n",
       "      <td>84</td>\n",
       "    </tr>\n",
       "    <tr>\n",
       "      <th>8</th>\n",
       "      <td>103</td>\n",
       "    </tr>\n",
       "  </tbody>\n",
       "</table>\n",
       "</div>"
      ],
      "text/plain": [
       "col_0      count\n",
       "cylinders       \n",
       "3              4\n",
       "4            204\n",
       "5              3\n",
       "6             84\n",
       "8            103"
      ]
     },
     "execution_count": 10,
     "metadata": {},
     "output_type": "execute_result"
    }
   ],
   "source": [
    "# crosstab counts how many rows fall into categories\n",
    "# \"index\" is the category\n",
    "# \"columns\" is a custom title\n",
    "\n",
    "table = pd.crosstab(index = carfeatures['cylinders'],columns = \"count\")\n",
    "table\n"
   ]
  },
  {
   "cell_type": "markdown",
   "metadata": {},
   "source": [
    "### The \"help\" keyword can be used to learn more about a command"
   ]
  },
  {
   "cell_type": "code",
   "execution_count": 11,
   "metadata": {},
   "outputs": [
    {
     "name": "stdout",
     "output_type": "stream",
     "text": [
      "Help on function crosstab in module pandas.core.reshape.pivot:\n",
      "\n",
      "crosstab(index, columns, values=None, rownames=None, colnames=None, aggfunc=None, margins: 'bool' = False, margins_name: 'Hashable' = 'All', dropna: 'bool' = True, normalize: \"bool | Literal[0, 1, 'all', 'index', 'columns']\" = False) -> 'DataFrame'\n",
      "    Compute a simple cross tabulation of two (or more) factors.\n",
      "\n",
      "    By default, computes a frequency table of the factors unless an\n",
      "    array of values and an aggregation function are passed.\n",
      "\n",
      "    Parameters\n",
      "    ----------\n",
      "    index : array-like, Series, or list of arrays/Series\n",
      "        Values to group by in the rows.\n",
      "    columns : array-like, Series, or list of arrays/Series\n",
      "        Values to group by in the columns.\n",
      "    values : array-like, optional\n",
      "        Array of values to aggregate according to the factors.\n",
      "        Requires `aggfunc` be specified.\n",
      "    rownames : sequence, default None\n",
      "        If passed, must match number of row arrays passed.\n",
      "    colnames : sequence, default None\n",
      "        If passed, must match number of column arrays passed.\n",
      "    aggfunc : function, optional\n",
      "        If specified, requires `values` be specified as well.\n",
      "    margins : bool, default False\n",
      "        Add row/column margins (subtotals).\n",
      "    margins_name : str, default 'All'\n",
      "        Name of the row/column that will contain the totals\n",
      "        when margins is True.\n",
      "    dropna : bool, default True\n",
      "        Do not include columns whose entries are all NaN.\n",
      "    normalize : bool, {'all', 'index', 'columns'}, or {0,1}, default False\n",
      "        Normalize by dividing all values by the sum of values.\n",
      "\n",
      "        - If passed 'all' or `True`, will normalize over all values.\n",
      "        - If passed 'index' will normalize over each row.\n",
      "        - If passed 'columns' will normalize over each column.\n",
      "        - If margins is `True`, will also normalize margin values.\n",
      "\n",
      "    Returns\n",
      "    -------\n",
      "    DataFrame\n",
      "        Cross tabulation of the data.\n",
      "\n",
      "    See Also\n",
      "    --------\n",
      "    DataFrame.pivot : Reshape data based on column values.\n",
      "    pivot_table : Create a pivot table as a DataFrame.\n",
      "\n",
      "    Notes\n",
      "    -----\n",
      "    Any Series passed will have their name attributes used unless row or column\n",
      "    names for the cross-tabulation are specified.\n",
      "\n",
      "    Any input passed containing Categorical data will have **all** of its\n",
      "    categories included in the cross-tabulation, even if the actual data does\n",
      "    not contain any instances of a particular category.\n",
      "\n",
      "    In the event that there aren't overlapping indexes an empty DataFrame will\n",
      "    be returned.\n",
      "\n",
      "    Reference :ref:`the user guide <reshaping.crosstabulations>` for more examples.\n",
      "\n",
      "    Examples\n",
      "    --------\n",
      "    >>> a = np.array([\"foo\", \"foo\", \"foo\", \"foo\", \"bar\", \"bar\",\n",
      "    ...               \"bar\", \"bar\", \"foo\", \"foo\", \"foo\"], dtype=object)\n",
      "    >>> b = np.array([\"one\", \"one\", \"one\", \"two\", \"one\", \"one\",\n",
      "    ...               \"one\", \"two\", \"two\", \"two\", \"one\"], dtype=object)\n",
      "    >>> c = np.array([\"dull\", \"dull\", \"shiny\", \"dull\", \"dull\", \"shiny\",\n",
      "    ...               \"shiny\", \"dull\", \"shiny\", \"shiny\", \"shiny\"],\n",
      "    ...              dtype=object)\n",
      "    >>> pd.crosstab(a, [b, c], rownames=['a'], colnames=['b', 'c'])\n",
      "    b   one        two\n",
      "    c   dull shiny dull shiny\n",
      "    a\n",
      "    bar    1     2    1     0\n",
      "    foo    2     2    1     2\n",
      "\n",
      "    Here 'c' and 'f' are not represented in the data and will not be\n",
      "    shown in the output because dropna is True by default. Set\n",
      "    dropna=False to preserve categories with no data.\n",
      "\n",
      "    >>> foo = pd.Categorical(['a', 'b'], categories=['a', 'b', 'c'])\n",
      "    >>> bar = pd.Categorical(['d', 'e'], categories=['d', 'e', 'f'])\n",
      "    >>> pd.crosstab(foo, bar)\n",
      "    col_0  d  e\n",
      "    row_0\n",
      "    a      1  0\n",
      "    b      0  1\n",
      "    >>> pd.crosstab(foo, bar, dropna=False)\n",
      "    col_0  d  e  f\n",
      "    row_0\n",
      "    a      1  0  0\n",
      "    b      0  1  0\n",
      "    c      0  0  0\n",
      "\n"
     ]
    }
   ],
   "source": [
    "help (pd.crosstab)"
   ]
  },
  {
   "cell_type": "code",
   "execution_count": null,
   "metadata": {},
   "outputs": [],
   "source": [
    "# It looks like the first two arguments are \"index\" and \"columns\", which are required. The rest are optional.\n",
    "# So we can also write the command like this:\n",
    "\n",
    "table = pd.crosstab(carfeatures['cylinders'], \"count\")\n",
    "table\n",
    "\n"
   ]
  },
  {
   "cell_type": "markdown",
   "metadata": {},
   "source": [
    "### We can also cross-tabulate between two columns of carfeatures:"
   ]
  },
  {
   "cell_type": "code",
   "execution_count": 12,
   "metadata": {},
   "outputs": [
    {
     "data": {
      "application/vnd.microsoft.datawrangler.viewer.v0+json": {
       "columns": [
        {
         "name": "cylinders",
         "rawType": "int64",
         "type": "integer"
        },
        {
         "name": "9.0",
         "rawType": "int64",
         "type": "integer"
        },
        {
         "name": "10.0",
         "rawType": "int64",
         "type": "integer"
        },
        {
         "name": "11.0",
         "rawType": "int64",
         "type": "integer"
        },
        {
         "name": "12.0",
         "rawType": "int64",
         "type": "integer"
        },
        {
         "name": "13.0",
         "rawType": "int64",
         "type": "integer"
        },
        {
         "name": "14.0",
         "rawType": "int64",
         "type": "integer"
        },
        {
         "name": "14.5",
         "rawType": "int64",
         "type": "integer"
        },
        {
         "name": "15.0",
         "rawType": "int64",
         "type": "integer"
        },
        {
         "name": "15.5",
         "rawType": "int64",
         "type": "integer"
        },
        {
         "name": "16.0",
         "rawType": "int64",
         "type": "integer"
        },
        {
         "name": "16.2",
         "rawType": "int64",
         "type": "integer"
        },
        {
         "name": "16.5",
         "rawType": "int64",
         "type": "integer"
        },
        {
         "name": "16.9",
         "rawType": "int64",
         "type": "integer"
        },
        {
         "name": "17.0",
         "rawType": "int64",
         "type": "integer"
        },
        {
         "name": "17.5",
         "rawType": "int64",
         "type": "integer"
        },
        {
         "name": "17.6",
         "rawType": "int64",
         "type": "integer"
        },
        {
         "name": "17.7",
         "rawType": "int64",
         "type": "integer"
        },
        {
         "name": "18.0",
         "rawType": "int64",
         "type": "integer"
        },
        {
         "name": "18.1",
         "rawType": "int64",
         "type": "integer"
        },
        {
         "name": "18.2",
         "rawType": "int64",
         "type": "integer"
        },
        {
         "name": "18.5",
         "rawType": "int64",
         "type": "integer"
        },
        {
         "name": "18.6",
         "rawType": "int64",
         "type": "integer"
        },
        {
         "name": "19.0",
         "rawType": "int64",
         "type": "integer"
        },
        {
         "name": "19.1",
         "rawType": "int64",
         "type": "integer"
        },
        {
         "name": "19.2",
         "rawType": "int64",
         "type": "integer"
        },
        {
         "name": "19.4",
         "rawType": "int64",
         "type": "integer"
        },
        {
         "name": "19.8",
         "rawType": "int64",
         "type": "integer"
        },
        {
         "name": "19.9",
         "rawType": "int64",
         "type": "integer"
        },
        {
         "name": "20.0",
         "rawType": "int64",
         "type": "integer"
        },
        {
         "name": "20.2",
         "rawType": "int64",
         "type": "integer"
        },
        {
         "name": "20.3",
         "rawType": "int64",
         "type": "integer"
        },
        {
         "name": "20.5",
         "rawType": "int64",
         "type": "integer"
        },
        {
         "name": "20.6",
         "rawType": "int64",
         "type": "integer"
        },
        {
         "name": "20.8",
         "rawType": "int64",
         "type": "integer"
        },
        {
         "name": "21.0",
         "rawType": "int64",
         "type": "integer"
        },
        {
         "name": "21.1",
         "rawType": "int64",
         "type": "integer"
        },
        {
         "name": "21.5",
         "rawType": "int64",
         "type": "integer"
        },
        {
         "name": "21.6",
         "rawType": "int64",
         "type": "integer"
        },
        {
         "name": "22.0",
         "rawType": "int64",
         "type": "integer"
        },
        {
         "name": "22.3",
         "rawType": "int64",
         "type": "integer"
        },
        {
         "name": "22.4",
         "rawType": "int64",
         "type": "integer"
        },
        {
         "name": "22.5",
         "rawType": "int64",
         "type": "integer"
        },
        {
         "name": "23.0",
         "rawType": "int64",
         "type": "integer"
        },
        {
         "name": "23.2",
         "rawType": "int64",
         "type": "integer"
        },
        {
         "name": "23.5",
         "rawType": "int64",
         "type": "integer"
        },
        {
         "name": "23.6",
         "rawType": "int64",
         "type": "integer"
        },
        {
         "name": "23.7",
         "rawType": "int64",
         "type": "integer"
        },
        {
         "name": "23.8",
         "rawType": "int64",
         "type": "integer"
        },
        {
         "name": "23.9",
         "rawType": "int64",
         "type": "integer"
        },
        {
         "name": "24.0",
         "rawType": "int64",
         "type": "integer"
        },
        {
         "name": "24.2",
         "rawType": "int64",
         "type": "integer"
        },
        {
         "name": "24.3",
         "rawType": "int64",
         "type": "integer"
        },
        {
         "name": "24.5",
         "rawType": "int64",
         "type": "integer"
        },
        {
         "name": "25.0",
         "rawType": "int64",
         "type": "integer"
        },
        {
         "name": "25.1",
         "rawType": "int64",
         "type": "integer"
        },
        {
         "name": "25.4",
         "rawType": "int64",
         "type": "integer"
        },
        {
         "name": "25.5",
         "rawType": "int64",
         "type": "integer"
        },
        {
         "name": "25.8",
         "rawType": "int64",
         "type": "integer"
        },
        {
         "name": "26.0",
         "rawType": "int64",
         "type": "integer"
        },
        {
         "name": "26.4",
         "rawType": "int64",
         "type": "integer"
        },
        {
         "name": "26.5",
         "rawType": "int64",
         "type": "integer"
        },
        {
         "name": "26.6",
         "rawType": "int64",
         "type": "integer"
        },
        {
         "name": "26.8",
         "rawType": "int64",
         "type": "integer"
        },
        {
         "name": "27.0",
         "rawType": "int64",
         "type": "integer"
        },
        {
         "name": "27.2",
         "rawType": "int64",
         "type": "integer"
        },
        {
         "name": "27.4",
         "rawType": "int64",
         "type": "integer"
        },
        {
         "name": "27.5",
         "rawType": "int64",
         "type": "integer"
        },
        {
         "name": "27.9",
         "rawType": "int64",
         "type": "integer"
        },
        {
         "name": "28.0",
         "rawType": "int64",
         "type": "integer"
        },
        {
         "name": "28.1",
         "rawType": "int64",
         "type": "integer"
        },
        {
         "name": "28.4",
         "rawType": "int64",
         "type": "integer"
        },
        {
         "name": "28.8",
         "rawType": "int64",
         "type": "integer"
        },
        {
         "name": "29.0",
         "rawType": "int64",
         "type": "integer"
        },
        {
         "name": "29.5",
         "rawType": "int64",
         "type": "integer"
        },
        {
         "name": "29.8",
         "rawType": "int64",
         "type": "integer"
        },
        {
         "name": "29.9",
         "rawType": "int64",
         "type": "integer"
        },
        {
         "name": "30.0",
         "rawType": "int64",
         "type": "integer"
        },
        {
         "name": "30.5",
         "rawType": "int64",
         "type": "integer"
        },
        {
         "name": "30.7",
         "rawType": "int64",
         "type": "integer"
        },
        {
         "name": "30.9",
         "rawType": "int64",
         "type": "integer"
        },
        {
         "name": "31.0",
         "rawType": "int64",
         "type": "integer"
        },
        {
         "name": "31.3",
         "rawType": "int64",
         "type": "integer"
        },
        {
         "name": "31.5",
         "rawType": "int64",
         "type": "integer"
        },
        {
         "name": "31.6",
         "rawType": "int64",
         "type": "integer"
        },
        {
         "name": "31.8",
         "rawType": "int64",
         "type": "integer"
        },
        {
         "name": "31.9",
         "rawType": "int64",
         "type": "integer"
        },
        {
         "name": "32.0",
         "rawType": "int64",
         "type": "integer"
        },
        {
         "name": "32.1",
         "rawType": "int64",
         "type": "integer"
        },
        {
         "name": "32.2",
         "rawType": "int64",
         "type": "integer"
        },
        {
         "name": "32.3",
         "rawType": "int64",
         "type": "integer"
        },
        {
         "name": "32.4",
         "rawType": "int64",
         "type": "integer"
        },
        {
         "name": "32.7",
         "rawType": "int64",
         "type": "integer"
        },
        {
         "name": "32.8",
         "rawType": "int64",
         "type": "integer"
        },
        {
         "name": "32.9",
         "rawType": "int64",
         "type": "integer"
        },
        {
         "name": "33.0",
         "rawType": "int64",
         "type": "integer"
        },
        {
         "name": "33.5",
         "rawType": "int64",
         "type": "integer"
        },
        {
         "name": "33.7",
         "rawType": "int64",
         "type": "integer"
        },
        {
         "name": "33.8",
         "rawType": "int64",
         "type": "integer"
        },
        {
         "name": "34.0",
         "rawType": "int64",
         "type": "integer"
        },
        {
         "name": "34.1",
         "rawType": "int64",
         "type": "integer"
        },
        {
         "name": "34.2",
         "rawType": "int64",
         "type": "integer"
        },
        {
         "name": "34.3",
         "rawType": "int64",
         "type": "integer"
        },
        {
         "name": "34.4",
         "rawType": "int64",
         "type": "integer"
        },
        {
         "name": "34.5",
         "rawType": "int64",
         "type": "integer"
        },
        {
         "name": "34.7",
         "rawType": "int64",
         "type": "integer"
        },
        {
         "name": "35.0",
         "rawType": "int64",
         "type": "integer"
        },
        {
         "name": "35.1",
         "rawType": "int64",
         "type": "integer"
        },
        {
         "name": "35.7",
         "rawType": "int64",
         "type": "integer"
        },
        {
         "name": "36.0",
         "rawType": "int64",
         "type": "integer"
        },
        {
         "name": "36.1",
         "rawType": "int64",
         "type": "integer"
        },
        {
         "name": "36.4",
         "rawType": "int64",
         "type": "integer"
        },
        {
         "name": "37.0",
         "rawType": "int64",
         "type": "integer"
        },
        {
         "name": "37.2",
         "rawType": "int64",
         "type": "integer"
        },
        {
         "name": "37.3",
         "rawType": "int64",
         "type": "integer"
        },
        {
         "name": "37.7",
         "rawType": "int64",
         "type": "integer"
        },
        {
         "name": "38.0",
         "rawType": "int64",
         "type": "integer"
        },
        {
         "name": "38.1",
         "rawType": "int64",
         "type": "integer"
        },
        {
         "name": "39.0",
         "rawType": "int64",
         "type": "integer"
        },
        {
         "name": "39.1",
         "rawType": "int64",
         "type": "integer"
        },
        {
         "name": "39.4",
         "rawType": "int64",
         "type": "integer"
        },
        {
         "name": "40.8",
         "rawType": "int64",
         "type": "integer"
        },
        {
         "name": "40.9",
         "rawType": "int64",
         "type": "integer"
        },
        {
         "name": "41.5",
         "rawType": "int64",
         "type": "integer"
        },
        {
         "name": "43.1",
         "rawType": "int64",
         "type": "integer"
        },
        {
         "name": "43.4",
         "rawType": "int64",
         "type": "integer"
        },
        {
         "name": "44.0",
         "rawType": "int64",
         "type": "integer"
        },
        {
         "name": "44.3",
         "rawType": "int64",
         "type": "integer"
        },
        {
         "name": "44.6",
         "rawType": "int64",
         "type": "integer"
        },
        {
         "name": "46.6",
         "rawType": "int64",
         "type": "integer"
        }
       ],
       "ref": "5dc5fc84-743f-463c-b693-13570f3c7471",
       "rows": [
        [
         "3",
         "0",
         "0",
         "0",
         "0",
         "0",
         "0",
         "0",
         "0",
         "0",
         "0",
         "0",
         "0",
         "0",
         "0",
         "0",
         "0",
         "0",
         "1",
         "0",
         "0",
         "0",
         "0",
         "1",
         "0",
         "0",
         "0",
         "0",
         "0",
         "0",
         "0",
         "0",
         "0",
         "0",
         "0",
         "0",
         "0",
         "1",
         "0",
         "0",
         "0",
         "0",
         "0",
         "0",
         "0",
         "0",
         "0",
         "1",
         "0",
         "0",
         "0",
         "0",
         "0",
         "0",
         "0",
         "0",
         "0",
         "0",
         "0",
         "0",
         "0",
         "0",
         "0",
         "0",
         "0",
         "0",
         "0",
         "0",
         "0",
         "0",
         "0",
         "0",
         "0",
         "0",
         "0",
         "0",
         "0",
         "0",
         "0",
         "0",
         "0",
         "0",
         "0",
         "0",
         "0",
         "0",
         "0",
         "0",
         "0",
         "0",
         "0",
         "0",
         "0",
         "0",
         "0",
         "0",
         "0",
         "0",
         "0",
         "0",
         "0",
         "0",
         "0",
         "0",
         "0",
         "0",
         "0",
         "0",
         "0",
         "0",
         "0",
         "0",
         "0",
         "0",
         "0",
         "0",
         "0",
         "0",
         "0",
         "0",
         "0",
         "0",
         "0",
         "0",
         "0",
         "0",
         "0",
         "0",
         "0",
         "0"
        ],
        [
         "4",
         "0",
         "0",
         "0",
         "0",
         "0",
         "0",
         "0",
         "0",
         "0",
         "0",
         "0",
         "0",
         "0",
         "0",
         "0",
         "0",
         "0",
         "1",
         "0",
         "0",
         "0",
         "0",
         "3",
         "0",
         "0",
         "0",
         "0",
         "0",
         "4",
         "0",
         "0",
         "0",
         "0",
         "0",
         "3",
         "1",
         "1",
         "1",
         "5",
         "1",
         "0",
         "0",
         "8",
         "1",
         "0",
         "1",
         "0",
         "1",
         "1",
         "10",
         "0",
         "1",
         "2",
         "10",
         "1",
         "0",
         "2",
         "1",
         "14",
         "1",
         "1",
         "1",
         "0",
         "9",
         "3",
         "1",
         "1",
         "1",
         "10",
         "1",
         "1",
         "0",
         "8",
         "2",
         "2",
         "1",
         "7",
         "2",
         "0",
         "1",
         "7",
         "1",
         "2",
         "1",
         "1",
         "1",
         "6",
         "1",
         "1",
         "1",
         "2",
         "0",
         "1",
         "1",
         "3",
         "3",
         "1",
         "1",
         "2",
         "2",
         "1",
         "1",
         "1",
         "2",
         "1",
         "2",
         "1",
         "1",
         "6",
         "2",
         "0",
         "3",
         "1",
         "1",
         "1",
         "3",
         "1",
         "1",
         "1",
         "1",
         "1",
         "1",
         "1",
         "1",
         "1",
         "1",
         "1",
         "1",
         "1"
        ],
        [
         "5",
         "0",
         "0",
         "0",
         "0",
         "0",
         "0",
         "0",
         "0",
         "0",
         "0",
         "0",
         "0",
         "0",
         "0",
         "0",
         "0",
         "0",
         "0",
         "0",
         "0",
         "0",
         "0",
         "0",
         "0",
         "0",
         "0",
         "0",
         "0",
         "0",
         "0",
         "1",
         "0",
         "0",
         "0",
         "0",
         "0",
         "0",
         "0",
         "0",
         "0",
         "0",
         "0",
         "0",
         "0",
         "0",
         "0",
         "0",
         "0",
         "0",
         "0",
         "0",
         "0",
         "0",
         "0",
         "0",
         "1",
         "0",
         "0",
         "0",
         "0",
         "0",
         "0",
         "0",
         "0",
         "0",
         "0",
         "0",
         "0",
         "0",
         "0",
         "0",
         "0",
         "0",
         "0",
         "0",
         "0",
         "0",
         "0",
         "0",
         "0",
         "0",
         "0",
         "0",
         "0",
         "0",
         "0",
         "0",
         "0",
         "0",
         "0",
         "0",
         "0",
         "0",
         "0",
         "0",
         "0",
         "0",
         "0",
         "0",
         "0",
         "0",
         "0",
         "0",
         "0",
         "0",
         "0",
         "0",
         "0",
         "0",
         "0",
         "1",
         "0",
         "0",
         "0",
         "0",
         "0",
         "0",
         "0",
         "0",
         "0",
         "0",
         "0",
         "0",
         "0",
         "0",
         "0",
         "0",
         "0",
         "0"
        ],
        [
         "6",
         "0",
         "0",
         "0",
         "0",
         "0",
         "0",
         "0",
         "4",
         "0",
         "5",
         "1",
         "1",
         "0",
         "3",
         "2",
         "1",
         "1",
         "13",
         "1",
         "0",
         "2",
         "1",
         "8",
         "1",
         "1",
         "1",
         "1",
         "0",
         "4",
         "3",
         "0",
         "3",
         "2",
         "1",
         "5",
         "0",
         "1",
         "0",
         "5",
         "0",
         "1",
         "1",
         "1",
         "0",
         "1",
         "0",
         "0",
         "0",
         "0",
         "1",
         "1",
         "0",
         "0",
         "1",
         "0",
         "1",
         "0",
         "0",
         "0",
         "0",
         "0",
         "0",
         "1",
         "0",
         "0",
         "0",
         "0",
         "0",
         "0",
         "0",
         "0",
         "1",
         "0",
         "0",
         "0",
         "0",
         "0",
         "0",
         "1",
         "0",
         "0",
         "0",
         "0",
         "0",
         "0",
         "0",
         "0",
         "0",
         "0",
         "0",
         "0",
         "1",
         "0",
         "0",
         "0",
         "0",
         "0",
         "0",
         "0",
         "0",
         "0",
         "0",
         "0",
         "0",
         "0",
         "0",
         "0",
         "0",
         "0",
         "0",
         "0",
         "0",
         "0",
         "0",
         "0",
         "1",
         "0",
         "0",
         "0",
         "0",
         "0",
         "0",
         "0",
         "0",
         "0",
         "0",
         "0",
         "0",
         "0"
        ],
        [
         "8",
         "1",
         "2",
         "4",
         "6",
         "20",
         "19",
         "1",
         "12",
         "5",
         "8",
         "0",
         "2",
         "1",
         "4",
         "3",
         "1",
         "0",
         "2",
         "1",
         "1",
         "1",
         "0",
         "0",
         "0",
         "2",
         "1",
         "0",
         "1",
         "1",
         "1",
         "0",
         "0",
         "0",
         "0",
         "0",
         "0",
         "0",
         "0",
         "0",
         "0",
         "0",
         "0",
         "1",
         "0",
         "0",
         "0",
         "0",
         "0",
         "1",
         "0",
         "0",
         "0",
         "0",
         "0",
         "0",
         "0",
         "0",
         "0",
         "0",
         "0",
         "0",
         "1",
         "0",
         "0",
         "0",
         "0",
         "0",
         "0",
         "0",
         "0",
         "0",
         "0",
         "0",
         "0",
         "0",
         "0",
         "0",
         "0",
         "0",
         "0",
         "0",
         "0",
         "0",
         "0",
         "0",
         "0",
         "0",
         "0",
         "0",
         "0",
         "0",
         "0",
         "0",
         "0",
         "0",
         "0",
         "0",
         "0",
         "0",
         "0",
         "0",
         "0",
         "0",
         "0",
         "0",
         "0",
         "0",
         "0",
         "0",
         "0",
         "0",
         "0",
         "0",
         "0",
         "0",
         "0",
         "0",
         "0",
         "0",
         "0",
         "0",
         "0",
         "0",
         "0",
         "0",
         "0",
         "0",
         "0",
         "0"
        ]
       ],
       "shape": {
        "columns": 129,
        "rows": 5
       }
      },
      "text/html": [
       "<div>\n",
       "<style scoped>\n",
       "    .dataframe tbody tr th:only-of-type {\n",
       "        vertical-align: middle;\n",
       "    }\n",
       "\n",
       "    .dataframe tbody tr th {\n",
       "        vertical-align: top;\n",
       "    }\n",
       "\n",
       "    .dataframe thead th {\n",
       "        text-align: right;\n",
       "    }\n",
       "</style>\n",
       "<table border=\"1\" class=\"dataframe\">\n",
       "  <thead>\n",
       "    <tr style=\"text-align: right;\">\n",
       "      <th>mpg</th>\n",
       "      <th>9.0</th>\n",
       "      <th>10.0</th>\n",
       "      <th>11.0</th>\n",
       "      <th>12.0</th>\n",
       "      <th>13.0</th>\n",
       "      <th>14.0</th>\n",
       "      <th>14.5</th>\n",
       "      <th>15.0</th>\n",
       "      <th>15.5</th>\n",
       "      <th>16.0</th>\n",
       "      <th>...</th>\n",
       "      <th>39.4</th>\n",
       "      <th>40.8</th>\n",
       "      <th>40.9</th>\n",
       "      <th>41.5</th>\n",
       "      <th>43.1</th>\n",
       "      <th>43.4</th>\n",
       "      <th>44.0</th>\n",
       "      <th>44.3</th>\n",
       "      <th>44.6</th>\n",
       "      <th>46.6</th>\n",
       "    </tr>\n",
       "    <tr>\n",
       "      <th>cylinders</th>\n",
       "      <th></th>\n",
       "      <th></th>\n",
       "      <th></th>\n",
       "      <th></th>\n",
       "      <th></th>\n",
       "      <th></th>\n",
       "      <th></th>\n",
       "      <th></th>\n",
       "      <th></th>\n",
       "      <th></th>\n",
       "      <th></th>\n",
       "      <th></th>\n",
       "      <th></th>\n",
       "      <th></th>\n",
       "      <th></th>\n",
       "      <th></th>\n",
       "      <th></th>\n",
       "      <th></th>\n",
       "      <th></th>\n",
       "      <th></th>\n",
       "      <th></th>\n",
       "    </tr>\n",
       "  </thead>\n",
       "  <tbody>\n",
       "    <tr>\n",
       "      <th>3</th>\n",
       "      <td>0</td>\n",
       "      <td>0</td>\n",
       "      <td>0</td>\n",
       "      <td>0</td>\n",
       "      <td>0</td>\n",
       "      <td>0</td>\n",
       "      <td>0</td>\n",
       "      <td>0</td>\n",
       "      <td>0</td>\n",
       "      <td>0</td>\n",
       "      <td>...</td>\n",
       "      <td>0</td>\n",
       "      <td>0</td>\n",
       "      <td>0</td>\n",
       "      <td>0</td>\n",
       "      <td>0</td>\n",
       "      <td>0</td>\n",
       "      <td>0</td>\n",
       "      <td>0</td>\n",
       "      <td>0</td>\n",
       "      <td>0</td>\n",
       "    </tr>\n",
       "    <tr>\n",
       "      <th>4</th>\n",
       "      <td>0</td>\n",
       "      <td>0</td>\n",
       "      <td>0</td>\n",
       "      <td>0</td>\n",
       "      <td>0</td>\n",
       "      <td>0</td>\n",
       "      <td>0</td>\n",
       "      <td>0</td>\n",
       "      <td>0</td>\n",
       "      <td>0</td>\n",
       "      <td>...</td>\n",
       "      <td>1</td>\n",
       "      <td>1</td>\n",
       "      <td>1</td>\n",
       "      <td>1</td>\n",
       "      <td>1</td>\n",
       "      <td>1</td>\n",
       "      <td>1</td>\n",
       "      <td>1</td>\n",
       "      <td>1</td>\n",
       "      <td>1</td>\n",
       "    </tr>\n",
       "    <tr>\n",
       "      <th>5</th>\n",
       "      <td>0</td>\n",
       "      <td>0</td>\n",
       "      <td>0</td>\n",
       "      <td>0</td>\n",
       "      <td>0</td>\n",
       "      <td>0</td>\n",
       "      <td>0</td>\n",
       "      <td>0</td>\n",
       "      <td>0</td>\n",
       "      <td>0</td>\n",
       "      <td>...</td>\n",
       "      <td>0</td>\n",
       "      <td>0</td>\n",
       "      <td>0</td>\n",
       "      <td>0</td>\n",
       "      <td>0</td>\n",
       "      <td>0</td>\n",
       "      <td>0</td>\n",
       "      <td>0</td>\n",
       "      <td>0</td>\n",
       "      <td>0</td>\n",
       "    </tr>\n",
       "    <tr>\n",
       "      <th>6</th>\n",
       "      <td>0</td>\n",
       "      <td>0</td>\n",
       "      <td>0</td>\n",
       "      <td>0</td>\n",
       "      <td>0</td>\n",
       "      <td>0</td>\n",
       "      <td>0</td>\n",
       "      <td>4</td>\n",
       "      <td>0</td>\n",
       "      <td>5</td>\n",
       "      <td>...</td>\n",
       "      <td>0</td>\n",
       "      <td>0</td>\n",
       "      <td>0</td>\n",
       "      <td>0</td>\n",
       "      <td>0</td>\n",
       "      <td>0</td>\n",
       "      <td>0</td>\n",
       "      <td>0</td>\n",
       "      <td>0</td>\n",
       "      <td>0</td>\n",
       "    </tr>\n",
       "    <tr>\n",
       "      <th>8</th>\n",
       "      <td>1</td>\n",
       "      <td>2</td>\n",
       "      <td>4</td>\n",
       "      <td>6</td>\n",
       "      <td>20</td>\n",
       "      <td>19</td>\n",
       "      <td>1</td>\n",
       "      <td>12</td>\n",
       "      <td>5</td>\n",
       "      <td>8</td>\n",
       "      <td>...</td>\n",
       "      <td>0</td>\n",
       "      <td>0</td>\n",
       "      <td>0</td>\n",
       "      <td>0</td>\n",
       "      <td>0</td>\n",
       "      <td>0</td>\n",
       "      <td>0</td>\n",
       "      <td>0</td>\n",
       "      <td>0</td>\n",
       "      <td>0</td>\n",
       "    </tr>\n",
       "  </tbody>\n",
       "</table>\n",
       "<p>5 rows × 129 columns</p>\n",
       "</div>"
      ],
      "text/plain": [
       "mpg        9.0   10.0  11.0  12.0  13.0  14.0  14.5  15.0  15.5  16.0  ...  \\\n",
       "cylinders                                                              ...   \n",
       "3             0     0     0     0     0     0     0     0     0     0  ...   \n",
       "4             0     0     0     0     0     0     0     0     0     0  ...   \n",
       "5             0     0     0     0     0     0     0     0     0     0  ...   \n",
       "6             0     0     0     0     0     0     0     4     0     5  ...   \n",
       "8             1     2     4     6    20    19     1    12     5     8  ...   \n",
       "\n",
       "mpg        39.4  40.8  40.9  41.5  43.1  43.4  44.0  44.3  44.6  46.6  \n",
       "cylinders                                                              \n",
       "3             0     0     0     0     0     0     0     0     0     0  \n",
       "4             1     1     1     1     1     1     1     1     1     1  \n",
       "5             0     0     0     0     0     0     0     0     0     0  \n",
       "6             0     0     0     0     0     0     0     0     0     0  \n",
       "8             0     0     0     0     0     0     0     0     0     0  \n",
       "\n",
       "[5 rows x 129 columns]"
      ]
     },
     "execution_count": 12,
     "metadata": {},
     "output_type": "execute_result"
    }
   ],
   "source": [
    "table_2 = pd.crosstab(index = carfeatures['cylinders'],columns = carfeatures['mpg'])\n",
    "table_2"
   ]
  },
  {
   "attachments": {},
   "cell_type": "markdown",
   "metadata": {},
   "source": [
    "<font size=\"5\"> \n",
    "\n",
    "Example: Compute basic summary statistics for all variables"
   ]
  },
  {
   "cell_type": "code",
   "execution_count": 13,
   "metadata": {},
   "outputs": [
    {
     "data": {
      "application/vnd.microsoft.datawrangler.viewer.v0+json": {
       "columns": [
        {
         "name": "index",
         "rawType": "object",
         "type": "string"
        },
        {
         "name": "mpg",
         "rawType": "float64",
         "type": "float"
        },
        {
         "name": "cylinders",
         "rawType": "float64",
         "type": "float"
        },
        {
         "name": "displacement",
         "rawType": "float64",
         "type": "float"
        },
        {
         "name": "weight",
         "rawType": "float64",
         "type": "float"
        },
        {
         "name": "acceleration",
         "rawType": "float64",
         "type": "float"
        }
       ],
       "ref": "d14b4bf9-cd8c-4216-8107-78f746c9770f",
       "rows": [
        [
         "count",
         "398.0",
         "398.0",
         "398.0",
         "398.0",
         "398.0"
        ],
        [
         "mean",
         "23.514572864321607",
         "5.454773869346734",
         "193.42713567839195",
         "2970.424623115578",
         "15.568090452261307"
        ],
        [
         "std",
         "7.815984312565782",
         "1.7010042445332094",
         "104.26868251535464",
         "846.8417741973271",
         "2.7576889298126765"
        ],
        [
         "min",
         "9.0",
         "3.0",
         "68.0",
         "1613.0",
         "8.0"
        ],
        [
         "25%",
         "17.5",
         "4.0",
         "104.25",
         "2223.75",
         "13.825000000000001"
        ],
        [
         "50%",
         "23.0",
         "4.0",
         "148.5",
         "2803.5",
         "15.5"
        ],
        [
         "75%",
         "29.0",
         "8.0",
         "262.0",
         "3608.0",
         "17.175"
        ],
        [
         "max",
         "46.6",
         "8.0",
         "455.0",
         "5140.0",
         "24.8"
        ]
       ],
       "shape": {
        "columns": 5,
        "rows": 8
       }
      },
      "text/html": [
       "<div>\n",
       "<style scoped>\n",
       "    .dataframe tbody tr th:only-of-type {\n",
       "        vertical-align: middle;\n",
       "    }\n",
       "\n",
       "    .dataframe tbody tr th {\n",
       "        vertical-align: top;\n",
       "    }\n",
       "\n",
       "    .dataframe thead th {\n",
       "        text-align: right;\n",
       "    }\n",
       "</style>\n",
       "<table border=\"1\" class=\"dataframe\">\n",
       "  <thead>\n",
       "    <tr style=\"text-align: right;\">\n",
       "      <th></th>\n",
       "      <th>mpg</th>\n",
       "      <th>cylinders</th>\n",
       "      <th>displacement</th>\n",
       "      <th>weight</th>\n",
       "      <th>acceleration</th>\n",
       "    </tr>\n",
       "  </thead>\n",
       "  <tbody>\n",
       "    <tr>\n",
       "      <th>count</th>\n",
       "      <td>398.000000</td>\n",
       "      <td>398.000000</td>\n",
       "      <td>398.000000</td>\n",
       "      <td>398.000000</td>\n",
       "      <td>398.000000</td>\n",
       "    </tr>\n",
       "    <tr>\n",
       "      <th>mean</th>\n",
       "      <td>23.514573</td>\n",
       "      <td>5.454774</td>\n",
       "      <td>193.427136</td>\n",
       "      <td>2970.424623</td>\n",
       "      <td>15.568090</td>\n",
       "    </tr>\n",
       "    <tr>\n",
       "      <th>std</th>\n",
       "      <td>7.815984</td>\n",
       "      <td>1.701004</td>\n",
       "      <td>104.268683</td>\n",
       "      <td>846.841774</td>\n",
       "      <td>2.757689</td>\n",
       "    </tr>\n",
       "    <tr>\n",
       "      <th>min</th>\n",
       "      <td>9.000000</td>\n",
       "      <td>3.000000</td>\n",
       "      <td>68.000000</td>\n",
       "      <td>1613.000000</td>\n",
       "      <td>8.000000</td>\n",
       "    </tr>\n",
       "    <tr>\n",
       "      <th>25%</th>\n",
       "      <td>17.500000</td>\n",
       "      <td>4.000000</td>\n",
       "      <td>104.250000</td>\n",
       "      <td>2223.750000</td>\n",
       "      <td>13.825000</td>\n",
       "    </tr>\n",
       "    <tr>\n",
       "      <th>50%</th>\n",
       "      <td>23.000000</td>\n",
       "      <td>4.000000</td>\n",
       "      <td>148.500000</td>\n",
       "      <td>2803.500000</td>\n",
       "      <td>15.500000</td>\n",
       "    </tr>\n",
       "    <tr>\n",
       "      <th>75%</th>\n",
       "      <td>29.000000</td>\n",
       "      <td>8.000000</td>\n",
       "      <td>262.000000</td>\n",
       "      <td>3608.000000</td>\n",
       "      <td>17.175000</td>\n",
       "    </tr>\n",
       "    <tr>\n",
       "      <th>max</th>\n",
       "      <td>46.600000</td>\n",
       "      <td>8.000000</td>\n",
       "      <td>455.000000</td>\n",
       "      <td>5140.000000</td>\n",
       "      <td>24.800000</td>\n",
       "    </tr>\n",
       "  </tbody>\n",
       "</table>\n",
       "</div>"
      ],
      "text/plain": [
       "              mpg   cylinders  displacement       weight  acceleration\n",
       "count  398.000000  398.000000    398.000000   398.000000    398.000000\n",
       "mean    23.514573    5.454774    193.427136  2970.424623     15.568090\n",
       "std      7.815984    1.701004    104.268683   846.841774      2.757689\n",
       "min      9.000000    3.000000     68.000000  1613.000000      8.000000\n",
       "25%     17.500000    4.000000    104.250000  2223.750000     13.825000\n",
       "50%     23.000000    4.000000    148.500000  2803.500000     15.500000\n",
       "75%     29.000000    8.000000    262.000000  3608.000000     17.175000\n",
       "max     46.600000    8.000000    455.000000  5140.000000     24.800000"
      ]
     },
     "execution_count": 13,
     "metadata": {},
     "output_type": "execute_result"
    }
   ],
   "source": [
    "# \"describe\" computes the count, mean, std, min, 25% quantile, 50%, 75%, max\n",
    "# automatically excludes variables with text values\n",
    "# otherwise includes all numeric variables\n",
    "\n",
    "carfeatures.describe()"
   ]
  },
  {
   "attachments": {},
   "cell_type": "markdown",
   "metadata": {},
   "source": [
    "<font size=\"5\"> \n",
    "\n",
    "Example: Display a scatter plot "
   ]
  },
  {
   "cell_type": "code",
   "execution_count": 16,
   "metadata": {},
   "outputs": [
    {
     "data": {
      "image/png": "[encoded data removed]",
      "text/plain": [
       "<Figure size 640x480 with 1 Axes>"
      ]
     },
     "metadata": {},
     "output_type": "display_data"
    }
   ],
   "source": [
    "plt.scatter(x = carfeatures['weight'], y = carfeatures['mpg'])\n",
    "plt.xlabel(\"Weight(pounds)\")\n",
    "plt.ylabel(\"MPG\")\n",
    "plt.title(\"Relationship between MPG and Weight\")\n",
    "plt.show()"
   ]
  },
  {
   "cell_type": "markdown",
   "metadata": {},
   "source": [
    "### Q: Is this a good plot?"
   ]
  },
  {
   "cell_type": "code",
   "execution_count": 17,
   "metadata": {},
   "outputs": [
    {
     "data": {
      "image/png": "[encoded data removed]",
      "text/plain": [
       "<Figure size 640x480 with 1 Axes>"
      ]
     },
     "metadata": {},
     "output_type": "display_data"
    }
   ],
   "source": [
    "# Try another scatter plot with x = \"acceleration\"\n",
    "plt.scatter(x = carfeatures['acceleration'], y = carfeatures['mpg'])\n",
    "plt.xlabel(\"Acceleration\")\n",
    "plt.ylabel(\"MPG\")\n",
    "plt.title(\"Relationship between MPG and Acceleration\")\n",
    "plt.show()\n",
    "\n"
   ]
  },
  {
   "attachments": {},
   "cell_type": "markdown",
   "metadata": {},
   "source": [
    "\n",
    "\n",
    "# <span style=\"color:darkblue\"> Pro Tips: How to be a great student for QTM 151?\n",
    " </span>\n",
    "\n",
    "<font size=\"5\"> \n",
    "\n",
    "- Ask clarifying questions, e.g.\n",
    "\n",
    "    -  Can you explain what this command is doing? --> **I don't mind repeating an explanation!**\n",
    "    -  What are the arguments of this function?\n",
    "    -  What is the output?\n",
    "    -  I get an error saying .... (be explicit), what could be the issue?"
   ]
  },
  {
   "attachments": {},
   "cell_type": "markdown",
   "metadata": {},
   "source": [
    "<font size=\"5\"> \n",
    "\n",
    "- Remember that good coders ...\n",
    "\n",
    "    -  build up their toolkit of commands over time\n",
    "    -  understand that errors are normal the first time you run a command\n",
    "    -  **learn to use online websites to interpret errors!!**, https://stackoverflow.com/questions/tagged/python\n",
    "    -  search help pages to find proper syntax, e.g. https://www.w3schools.com/python/\n"
   ]
  },
  {
   "attachments": {},
   "cell_type": "markdown",
   "metadata": {},
   "source": [
    "<font size=\"5\"> \n",
    "\n",
    "- Experiment\n",
    "\n",
    "    -  If we do analyses for variable \"A\", try it for \"B\"\n",
    "    -  Search online how to do something extra, e.g. change the color of a scatter plot\n",
    "    -  Try running the syntax deliberately wrong: helps you get more familiar with error messages\n",
    "    -  Think long term: Figuring out a puzzle today, means that you can use the code for the next time!"
   ]
  },
  {
   "attachments": {},
   "cell_type": "markdown",
   "metadata": {},
   "source": [
    "<font size=\"5\"> \n",
    "\n",
    "- Come to office hours\n",
    "\n",
    "    -  Best time for a one-on-one!\n",
    "    -  Good place to ask about topics not covered in the lecture\n"
   ]
  }
 ],
 "metadata": {
  "kernelspec": {
   "display_name": "base",
   "language": "python",
   "name": "python3"
  },
  "language_info": {
   "codemirror_mode": {
    "name": "ipython",
    "version": 3
   },
   "file_extension": ".py",
   "mimetype": "text/x-python",
   "name": "python",
   "nbconvert_exporter": "python",
   "pygments_lexer": "ipython3",
   "version": "3.12.7"
  },
  "orig_nbformat": 4
 },
 "nbformat": 4,
 "nbformat_minor": 2
}
